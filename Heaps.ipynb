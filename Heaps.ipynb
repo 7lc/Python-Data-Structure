{
 "cells": [
  {
   "cell_type": "markdown",
   "metadata": {},
   "source": [
    "# Heaps"
   ]
  },
  {
   "cell_type": "markdown",
   "metadata": {},
   "source": [
    "## Overview\n",
    "\n",
    "For this assignment you will update the heap data structure implemented in class so that it accepts a `key` function in its initializer, which will allow the contents of the heap to be maintained using an arbitrary priority (as dictated by the key extracted by said function).\n",
    "\n",
    "See the naive implementation of a priority queue in the [lecture notes](https://braeburn.cs.iit.edu/jupyter/user/lee/notebooks/cs331/source/Lectures/priority-queues.ipynb#2.-Naive-implementation) (and the following examples) for details on how such a `key` function might be used. Your changes to the `Heap` class will need to be more extensive, however, than those found in the naive priority queue, as we are not using a built-in `sort` (which already takes a `key` function). \n",
    "\n",
    "Just as with the naive priority queue, the default `key` function should simply sort on the value of the elements themselves — such a default value has already been inserted for you into the `__init__` parameter list. You will, at the very least, need to update the `_heapify` and `add` methods, below, to complete this assignment."
   ]
  },
  {
   "cell_type": "code",
   "execution_count": 34,
   "metadata": {
    "collapsed": true,
    "deletable": false,
    "nbgrader": {
     "checksum": "61b1e92cfbdaaffba1ffc54963961093",
     "grade": false,
     "grade_id": "heap",
     "locked": false,
     "solution": true
    }
   },
   "outputs": [],
   "source": [
    "class Heap:\n",
    "    def __init__(self, key=lambda x:x):\n",
    "        self.data = []\n",
    "        self.key  = key\n",
    "\n",
    "    @staticmethod\n",
    "    def _parent(idx):\n",
    "        return (idx-1)//2\n",
    "        \n",
    "    @staticmethod\n",
    "    def _left(idx):\n",
    "        return idx*2+1\n",
    "\n",
    "    @staticmethod\n",
    "    def _right(idx):\n",
    "        return idx*2+2\n",
    "    \n",
    "    def _heapify(self, idx=0):\n",
    "        while True:\n",
    "            left = Heap._left(idx)\n",
    "            right = Heap._right(idx)\n",
    "            max_idx = idx\n",
    "            if left < len(self.data) and self.key(self.data[left]) > self.key(self.data[idx]):\n",
    "                max_idx = left\n",
    "            if right < len(self.data) and self.key(self.data[right]) > self.key(self.data[max_idx]):\n",
    "                max_idx = right\n",
    "            if max_idx != idx:\n",
    "                #swap\n",
    "                self.data[idx], self.data[max_idx] = self.data[max_idx], self.data[idx]\n",
    "                idx = max_idx\n",
    "            else:\n",
    "                break\n",
    "                \n",
    "    def add(self, x):\n",
    "        self.data.append(x)\n",
    "        idx = len(self.data) - 1\n",
    "        pidx = Heap._parent(idx)\n",
    "        while self.key(self.data[pidx]) < self.key(self.data[idx]) and idx > 0:\n",
    "            #swap\n",
    "            self.data[pidx], self.data[idx] = self.data[idx], self.data[pidx]\n",
    "            idx = pidx\n",
    "            pidx = Heap._parent(idx)\n",
    "        \n",
    "    def max(self):\n",
    "        return self.data[0]\n",
    "\n",
    "    def pop_max(self):\n",
    "        ret = self.data[0]\n",
    "        self.data[0] = self.data[len(self.data)-1]\n",
    "        del self.data[len(self.data)-1]\n",
    "        self._heapify()\n",
    "        return ret\n",
    "    \n",
    "    def __bool__(self):\n",
    "        return len(self.data) > 0\n",
    "\n",
    "    def __len__(self):\n",
    "        return len(self.data)\n",
    "\n",
    "    def __repr__(self):\n",
    "        return repr(self.data)"
   ]
  },
  {
   "cell_type": "code",
   "execution_count": 35,
   "metadata": {
    "collapsed": false,
    "deletable": false,
    "nbgrader": {
     "checksum": "1d8e46af7ffa20d1d64d7d13668e4344",
     "grade": true,
     "grade_id": "heap_test_1",
     "locked": true,
     "points": 3,
     "solution": false
    }
   },
   "outputs": [],
   "source": [
    "from unittest import TestCase\n",
    "import random\n",
    "\n",
    "tc = TestCase()\n",
    "h = Heap()\n",
    "\n",
    "random.seed(0)\n",
    "for _ in range(10):\n",
    "    h.add(random.randrange(100))\n",
    "tc.assertEqual(h.data, [97, 61, 65, 49, 51, 53, 62, 5, 38, 33])"
   ]
  },
  {
   "cell_type": "code",
   "execution_count": 36,
   "metadata": {
    "collapsed": false,
    "deletable": false,
    "nbgrader": {
     "checksum": "3d012aa2d3726a0afb61964ef3f6ccd6",
     "grade": true,
     "grade_id": "heap_test_2",
     "locked": true,
     "points": 3,
     "solution": false
    }
   },
   "outputs": [],
   "source": [
    "from unittest import TestCase\n",
    "import random\n",
    "\n",
    "tc = TestCase()\n",
    "h = Heap(lambda x:-x)\n",
    "\n",
    "random.seed(0)\n",
    "for _ in range(10):\n",
    "    h.add(random.randrange(100))\n",
    "\n",
    "tc.assertEqual(h.data, [5, 33, 53, 38, 49, 65, 62, 97, 51, 61])"
   ]
  },
  {
   "cell_type": "code",
   "execution_count": 37,
   "metadata": {
    "collapsed": false,
    "deletable": false,
    "nbgrader": {
     "checksum": "32cd9265a7ff0098f9fd01a89dc5a943",
     "grade": true,
     "grade_id": "heap_test_3",
     "locked": true,
     "points": 3,
     "solution": false
    }
   },
   "outputs": [],
   "source": [
    "from unittest import TestCase\n",
    "import random\n",
    "\n",
    "tc = TestCase()\n",
    "h = Heap(lambda s:len(s))\n",
    "\n",
    "h.add('hello')\n",
    "h.add('hi')\n",
    "h.add('abracadabra')\n",
    "h.add('supercalifragilisticexpialidocious')\n",
    "h.add('0')\n",
    "\n",
    "tc.assertEqual(h.data,\n",
    "              ['supercalifragilisticexpialidocious', 'abracadabra', 'hello', 'hi', '0'])"
   ]
  },
  {
   "cell_type": "code",
   "execution_count": 38,
   "metadata": {
    "collapsed": false,
    "deletable": false,
    "nbgrader": {
     "checksum": "218a5f1c682042e2950d9bcab395fc79",
     "grade": true,
     "grade_id": "heap_test_4",
     "locked": true,
     "points": 3,
     "solution": false
    }
   },
   "outputs": [],
   "source": [
    "from unittest import TestCase\n",
    "import random\n",
    "\n",
    "tc = TestCase()\n",
    "h = Heap()\n",
    "\n",
    "random.seed(0)\n",
    "lst = list(range(-1000, 1000))\n",
    "random.shuffle(lst)\n",
    "\n",
    "for x in lst:\n",
    "    h.add(x)\n",
    "\n",
    "for x in range(999, -1000, -1):\n",
    "    tc.assertEqual(x, h.pop_max())"
   ]
  },
  {
   "cell_type": "code",
   "execution_count": 39,
   "metadata": {
    "collapsed": false,
    "deletable": false,
    "nbgrader": {
     "checksum": "3fba57ecb23bcb100e60364a3f22826a",
     "grade": true,
     "grade_id": "heap_test_5",
     "locked": true,
     "points": 3,
     "solution": false
    }
   },
   "outputs": [],
   "source": [
    "from unittest import TestCase\n",
    "import random\n",
    "\n",
    "tc = TestCase()\n",
    "h = Heap(key=lambda x:abs(x))\n",
    "\n",
    "random.seed(0)\n",
    "lst = list(range(-1000, 1000, 3))\n",
    "random.shuffle(lst)\n",
    "\n",
    "for x in lst:\n",
    "    h.add(x)\n",
    "\n",
    "for x in reversed(sorted(range(-1000, 1000, 3), key=lambda x:abs(x))):\n",
    "    tc.assertEqual(x, h.pop_max())"
   ]
  },
  {
   "cell_type": "code",
   "execution_count": 40,
   "metadata": {
    "collapsed": false
   },
   "outputs": [],
   "source": [
    "def running_medians_naive(iterable):\n",
    "    values = []\n",
    "    medians = []\n",
    "    for i, x in enumerate(iterable):\n",
    "        values.append(x)\n",
    "        values.sort()\n",
    "        if i%2 == 0:\n",
    "            medians.append(values[i//2])\n",
    "        else:\n",
    "            medians.append((values[i//2] + values[i//2+1]) / 2)\n",
    "    return medians"
   ]
  },
  {
   "cell_type": "code",
   "execution_count": 41,
   "metadata": {
    "collapsed": false
   },
   "outputs": [
    {
     "data": {
      "text/plain": [
       "[3, 2.0, 3, 6.0, 9]"
      ]
     },
     "execution_count": 41,
     "metadata": {},
     "output_type": "execute_result"
    }
   ],
   "source": [
    "running_medians_naive([3, 1, 9, 25, 12])"
   ]
  },
  {
   "cell_type": "code",
   "execution_count": 42,
   "metadata": {
    "collapsed": false
   },
   "outputs": [
    {
     "data": {
      "text/plain": [
       "[8, 6.0, 8, 9.5]"
      ]
     },
     "execution_count": 42,
     "metadata": {},
     "output_type": "execute_result"
    }
   ],
   "source": [
    "running_medians_naive([8, 4, 11, 18])"
   ]
  },
  {
   "cell_type": "code",
   "execution_count": 43,
   "metadata": {
    "collapsed": false
   },
   "outputs": [
    {
     "data": {
      "text/plain": [
       "[3, 2.0, 3, 6.0, 9]"
      ]
     },
     "execution_count": 43,
     "metadata": {},
     "output_type": "execute_result"
    }
   ],
   "source": [
    "running_medians_naive([3, 1, 9, 25, 12])"
   ]
  },
  {
   "cell_type": "code",
   "execution_count": 153,
   "metadata": {
    "collapsed": true
   },
   "outputs": [],
   "source": [
    "class Min_Heap:\n",
    "    def __init__(self, key=lambda x:x):\n",
    "        self.data = []\n",
    "        self.key  = key\n",
    "\n",
    "    @staticmethod\n",
    "    def _parent(idx):\n",
    "        return (idx-1)//2\n",
    "        \n",
    "    @staticmethod\n",
    "    def _left(idx):\n",
    "        return idx*2+1\n",
    "\n",
    "    @staticmethod\n",
    "    def _right(idx):\n",
    "        return idx*2+2\n",
    "    \n",
    "    def _heapify(self, idx=0):\n",
    "        while True:\n",
    "            left = Heap._left(idx)\n",
    "            right = Heap._right(idx)\n",
    "            min_idx = idx\n",
    "            if left < len(self.data) and self.key(self.data[left]) < self.key(self.data[idx]):\n",
    "                min_idx = left\n",
    "            else:\n",
    "                min_idx = idx\n",
    "            if right < len(self.data) and self.key(self.data[right]) < self.key(self.data[min_idx]):\n",
    "                min_idx = right\n",
    "            if min_idx != idx:\n",
    "                #swap\n",
    "                self.data[idx], self.data[min_idx] = self.data[min_idx], self.data[idx]\n",
    "                idx = min_idx\n",
    "            else:\n",
    "                break\n",
    "                \n",
    "    def add(self, x):\n",
    "        self.data.append(x)\n",
    "        idx = len(self.data) - 1\n",
    "        pidx = Heap._parent(idx)\n",
    "        while self.key(self.data[pidx]) > self.key(self.data[idx]) and idx > 0:\n",
    "            #swap\n",
    "            self.data[pidx], self.data[idx] = self.data[idx], self.data[pidx]\n",
    "            idx = pidx\n",
    "            pidx = Heap._parent(idx)\n",
    "        \n",
    "    def min(self):\n",
    "        return self.data[0]\n",
    "\n",
    "    def pop_min(self):\n",
    "        ret = self.data[0]\n",
    "        self.data[0] = self.data[len(self.data)-1]\n",
    "        del self.data[len(self.data)-1]\n",
    "        self._heapify()\n",
    "        return ret\n",
    "    \n",
    "    def __bool__(self):\n",
    "        return len(self.data) > 0\n",
    "\n",
    "    def __len__(self):\n",
    "        return len(self.data)\n",
    "\n",
    "    def __repr__(self):\n",
    "        return repr(self.data)"
   ]
  },
  {
   "cell_type": "code",
   "execution_count": 154,
   "metadata": {
    "collapsed": false
   },
   "outputs": [],
   "source": [
    "def running_medians(iterable):\n",
    "    max_heaps = Heap()\n",
    "    min_heaps = Min_Heap()\n",
    "    median = []\n",
    "    \n",
    "    for number in iterable:\n",
    "        # if the heaps are empty, add the number to the max_heap\n",
    "        if len(max_heaps) == 0 and len(min_heaps) == 0:\n",
    "            max_heaps.add(number)\n",
    "            median.append(number)\n",
    "        elif len(max_heaps) > len(min_heaps):\n",
    "            if number < max_heaps.max():\n",
    "                min_heaps.add(max_heaps.pop_max())\n",
    "                max_heaps.add(number)\n",
    "            else:\n",
    "                min_heaps.add(number)\n",
    "            median.append((max_heaps.max() + min_heaps.min()) / 2)\n",
    "        elif len(max_heaps) < len(min_heaps):\n",
    "            if number < max_heaps.max():\n",
    "                max_heaps.add(number)\n",
    "            else:\n",
    "                max_heaps.add(min_heaps.pop_min())\n",
    "                min_heaps.add(number)\n",
    "            median.append((max_heaps.max() + min_heaps.min()) / 2)\n",
    "        elif len(max_heaps) == len(min_heaps):\n",
    "            if number < max_heaps.max():\n",
    "                max_heaps.add(number)\n",
    "                median.append(max_heaps.max())\n",
    "            else:\n",
    "                min_heaps.add(number)\n",
    "                median.append(min_heaps.min())\n",
    "    return median"
   ]
  },
  {
   "cell_type": "code",
   "execution_count": 155,
   "metadata": {
    "collapsed": false
   },
   "outputs": [
    {
     "name": "stdout",
     "output_type": "stream",
     "text": [
      "[106, 105, 5, 1, 3, 2, 2] [1, 2, 2, 105, 106, 3, 5]\n"
     ]
    }
   ],
   "source": [
    "num = [2,1,3,105,106,2,5]\n",
    "max_heaps = Heap()\n",
    "min_heaps = Min_Heap()\n",
    "for i in num:\n",
    "    max_heaps.add(i)\n",
    "    min_heaps.add(i)\n",
    "print(max_heaps,min_heaps)"
   ]
  },
  {
   "cell_type": "code",
   "execution_count": 156,
   "metadata": {
    "collapsed": false,
    "scrolled": true
   },
   "outputs": [
    {
     "data": {
      "text/plain": [
       "[2, 1.5, 2, 2.5, 3, 2.5, 2]"
      ]
     },
     "execution_count": 156,
     "metadata": {},
     "output_type": "execute_result"
    }
   ],
   "source": [
    "running_medians(num)"
   ]
  },
  {
   "cell_type": "code",
   "execution_count": 167,
   "metadata": {
    "collapsed": false
   },
   "outputs": [],
   "source": [
    "# (2 points)\n",
    "\n",
    "from unittest import TestCase\n",
    "tc = TestCase()\n",
    "tc.assertEqual([3, 2.0, 3, 6.0, 9], running_medians([3, 1, 9, 25, 12]))\n",
    "# (2 points)"
   ]
  },
  {
   "cell_type": "code",
   "execution_count": 195,
   "metadata": {
    "collapsed": false,
    "scrolled": false
   },
   "outputs": [
    {
     "ename": "AssertionError",
     "evalue": "Lists differ: [6575[132 chars].5, 5923, 5625.5, 5474, 5401.0, 5474, 5530.0, [6812 chars]62.0] != [6575[132 chars].5, 5328, 5625.5, 5923, 5401.0, 5328, 5530.0, [6812 chars]62.0]\n\nFirst differing element 20:\n5923\n5328\n\nDiff is 10029 characters long. Set self.maxDiff to None to see it.",
     "output_type": "error",
     "traceback": [
      "\u001b[0;31m---------------------------------------------------------------------------\u001b[0m",
      "\u001b[0;31mAssertionError\u001b[0m                            Traceback (most recent call last)",
      "\u001b[0;32m<ipython-input-195-15bd0ce9799b>\u001b[0m in \u001b[0;36m<module>\u001b[0;34m()\u001b[0m\n\u001b[1;32m      3\u001b[0m \u001b[0mtc\u001b[0m \u001b[0;34m=\u001b[0m \u001b[0mTestCase\u001b[0m\u001b[0;34m(\u001b[0m\u001b[0;34m)\u001b[0m\u001b[0;34m\u001b[0m\u001b[0m\n\u001b[1;32m      4\u001b[0m \u001b[0mvals\u001b[0m \u001b[0;34m=\u001b[0m \u001b[0;34m[\u001b[0m\u001b[0mrandom\u001b[0m\u001b[0;34m.\u001b[0m\u001b[0mrandrange\u001b[0m\u001b[0;34m(\u001b[0m\u001b[0;36m10000\u001b[0m\u001b[0;34m)\u001b[0m \u001b[0;32mfor\u001b[0m \u001b[0m_\u001b[0m \u001b[0;32min\u001b[0m \u001b[0mrange\u001b[0m\u001b[0;34m(\u001b[0m\u001b[0;36m1000\u001b[0m\u001b[0;34m)\u001b[0m\u001b[0;34m]\u001b[0m\u001b[0;34m\u001b[0m\u001b[0m\n\u001b[0;32m----> 5\u001b[0;31m \u001b[0mtc\u001b[0m\u001b[0;34m.\u001b[0m\u001b[0massertEqual\u001b[0m\u001b[0;34m(\u001b[0m\u001b[0mrunning_medians_naive\u001b[0m\u001b[0;34m(\u001b[0m\u001b[0mvals\u001b[0m\u001b[0;34m)\u001b[0m\u001b[0;34m,\u001b[0m \u001b[0mrunning_medians\u001b[0m\u001b[0;34m(\u001b[0m\u001b[0mvals\u001b[0m\u001b[0;34m)\u001b[0m\u001b[0;34m)\u001b[0m\u001b[0;34m\u001b[0m\u001b[0m\n\u001b[0m\u001b[1;32m      6\u001b[0m \u001b[0;31m# (4 points) MUST COMPLETE IN UNDER 10 seconds!\u001b[0m\u001b[0;34m\u001b[0m\u001b[0;34m\u001b[0m\u001b[0m\n",
      "\u001b[0;32m/Users/cuilongchang/anaconda/envs/py35/lib/python3.5/unittest/case.py\u001b[0m in \u001b[0;36massertEqual\u001b[0;34m(self, first, second, msg)\u001b[0m\n\u001b[1;32m    818\u001b[0m         \"\"\"\n\u001b[1;32m    819\u001b[0m         \u001b[0massertion_func\u001b[0m \u001b[0;34m=\u001b[0m \u001b[0mself\u001b[0m\u001b[0;34m.\u001b[0m\u001b[0m_getAssertEqualityFunc\u001b[0m\u001b[0;34m(\u001b[0m\u001b[0mfirst\u001b[0m\u001b[0;34m,\u001b[0m \u001b[0msecond\u001b[0m\u001b[0;34m)\u001b[0m\u001b[0;34m\u001b[0m\u001b[0m\n\u001b[0;32m--> 820\u001b[0;31m         \u001b[0massertion_func\u001b[0m\u001b[0;34m(\u001b[0m\u001b[0mfirst\u001b[0m\u001b[0;34m,\u001b[0m \u001b[0msecond\u001b[0m\u001b[0;34m,\u001b[0m \u001b[0mmsg\u001b[0m\u001b[0;34m=\u001b[0m\u001b[0mmsg\u001b[0m\u001b[0;34m)\u001b[0m\u001b[0;34m\u001b[0m\u001b[0m\n\u001b[0m\u001b[1;32m    821\u001b[0m \u001b[0;34m\u001b[0m\u001b[0m\n\u001b[1;32m    822\u001b[0m     \u001b[0;32mdef\u001b[0m \u001b[0massertNotEqual\u001b[0m\u001b[0;34m(\u001b[0m\u001b[0mself\u001b[0m\u001b[0;34m,\u001b[0m \u001b[0mfirst\u001b[0m\u001b[0;34m,\u001b[0m \u001b[0msecond\u001b[0m\u001b[0;34m,\u001b[0m \u001b[0mmsg\u001b[0m\u001b[0;34m=\u001b[0m\u001b[0;32mNone\u001b[0m\u001b[0;34m)\u001b[0m\u001b[0;34m:\u001b[0m\u001b[0;34m\u001b[0m\u001b[0m\n",
      "\u001b[0;32m/Users/cuilongchang/anaconda/envs/py35/lib/python3.5/unittest/case.py\u001b[0m in \u001b[0;36massertListEqual\u001b[0;34m(self, list1, list2, msg)\u001b[0m\n\u001b[1;32m   1016\u001b[0m \u001b[0;34m\u001b[0m\u001b[0m\n\u001b[1;32m   1017\u001b[0m         \"\"\"\n\u001b[0;32m-> 1018\u001b[0;31m         \u001b[0mself\u001b[0m\u001b[0;34m.\u001b[0m\u001b[0massertSequenceEqual\u001b[0m\u001b[0;34m(\u001b[0m\u001b[0mlist1\u001b[0m\u001b[0;34m,\u001b[0m \u001b[0mlist2\u001b[0m\u001b[0;34m,\u001b[0m \u001b[0mmsg\u001b[0m\u001b[0;34m,\u001b[0m \u001b[0mseq_type\u001b[0m\u001b[0;34m=\u001b[0m\u001b[0mlist\u001b[0m\u001b[0;34m)\u001b[0m\u001b[0;34m\u001b[0m\u001b[0m\n\u001b[0m\u001b[1;32m   1019\u001b[0m \u001b[0;34m\u001b[0m\u001b[0m\n\u001b[1;32m   1020\u001b[0m     \u001b[0;32mdef\u001b[0m \u001b[0massertTupleEqual\u001b[0m\u001b[0;34m(\u001b[0m\u001b[0mself\u001b[0m\u001b[0;34m,\u001b[0m \u001b[0mtuple1\u001b[0m\u001b[0;34m,\u001b[0m \u001b[0mtuple2\u001b[0m\u001b[0;34m,\u001b[0m \u001b[0mmsg\u001b[0m\u001b[0;34m=\u001b[0m\u001b[0;32mNone\u001b[0m\u001b[0;34m)\u001b[0m\u001b[0;34m:\u001b[0m\u001b[0;34m\u001b[0m\u001b[0m\n",
      "\u001b[0;32m/Users/cuilongchang/anaconda/envs/py35/lib/python3.5/unittest/case.py\u001b[0m in \u001b[0;36massertSequenceEqual\u001b[0;34m(self, seq1, seq2, msg, seq_type)\u001b[0m\n\u001b[1;32m    998\u001b[0m         \u001b[0mstandardMsg\u001b[0m \u001b[0;34m=\u001b[0m \u001b[0mself\u001b[0m\u001b[0;34m.\u001b[0m\u001b[0m_truncateMessage\u001b[0m\u001b[0;34m(\u001b[0m\u001b[0mstandardMsg\u001b[0m\u001b[0;34m,\u001b[0m \u001b[0mdiffMsg\u001b[0m\u001b[0;34m)\u001b[0m\u001b[0;34m\u001b[0m\u001b[0m\n\u001b[1;32m    999\u001b[0m         \u001b[0mmsg\u001b[0m \u001b[0;34m=\u001b[0m \u001b[0mself\u001b[0m\u001b[0;34m.\u001b[0m\u001b[0m_formatMessage\u001b[0m\u001b[0;34m(\u001b[0m\u001b[0mmsg\u001b[0m\u001b[0;34m,\u001b[0m \u001b[0mstandardMsg\u001b[0m\u001b[0;34m)\u001b[0m\u001b[0;34m\u001b[0m\u001b[0m\n\u001b[0;32m-> 1000\u001b[0;31m         \u001b[0mself\u001b[0m\u001b[0;34m.\u001b[0m\u001b[0mfail\u001b[0m\u001b[0;34m(\u001b[0m\u001b[0mmsg\u001b[0m\u001b[0;34m)\u001b[0m\u001b[0;34m\u001b[0m\u001b[0m\n\u001b[0m\u001b[1;32m   1001\u001b[0m \u001b[0;34m\u001b[0m\u001b[0m\n\u001b[1;32m   1002\u001b[0m     \u001b[0;32mdef\u001b[0m \u001b[0m_truncateMessage\u001b[0m\u001b[0;34m(\u001b[0m\u001b[0mself\u001b[0m\u001b[0;34m,\u001b[0m \u001b[0mmessage\u001b[0m\u001b[0;34m,\u001b[0m \u001b[0mdiff\u001b[0m\u001b[0;34m)\u001b[0m\u001b[0;34m:\u001b[0m\u001b[0;34m\u001b[0m\u001b[0m\n",
      "\u001b[0;32m/Users/cuilongchang/anaconda/envs/py35/lib/python3.5/unittest/case.py\u001b[0m in \u001b[0;36mfail\u001b[0;34m(self, msg)\u001b[0m\n\u001b[1;32m    663\u001b[0m     \u001b[0;32mdef\u001b[0m \u001b[0mfail\u001b[0m\u001b[0;34m(\u001b[0m\u001b[0mself\u001b[0m\u001b[0;34m,\u001b[0m \u001b[0mmsg\u001b[0m\u001b[0;34m=\u001b[0m\u001b[0;32mNone\u001b[0m\u001b[0;34m)\u001b[0m\u001b[0;34m:\u001b[0m\u001b[0;34m\u001b[0m\u001b[0m\n\u001b[1;32m    664\u001b[0m         \u001b[0;34m\"\"\"Fail immediately, with the given message.\"\"\"\u001b[0m\u001b[0;34m\u001b[0m\u001b[0m\n\u001b[0;32m--> 665\u001b[0;31m         \u001b[0;32mraise\u001b[0m \u001b[0mself\u001b[0m\u001b[0;34m.\u001b[0m\u001b[0mfailureException\u001b[0m\u001b[0;34m(\u001b[0m\u001b[0mmsg\u001b[0m\u001b[0;34m)\u001b[0m\u001b[0;34m\u001b[0m\u001b[0m\n\u001b[0m\u001b[1;32m    666\u001b[0m \u001b[0;34m\u001b[0m\u001b[0m\n\u001b[1;32m    667\u001b[0m     \u001b[0;32mdef\u001b[0m \u001b[0massertFalse\u001b[0m\u001b[0;34m(\u001b[0m\u001b[0mself\u001b[0m\u001b[0;34m,\u001b[0m \u001b[0mexpr\u001b[0m\u001b[0;34m,\u001b[0m \u001b[0mmsg\u001b[0m\u001b[0;34m=\u001b[0m\u001b[0;32mNone\u001b[0m\u001b[0;34m)\u001b[0m\u001b[0;34m:\u001b[0m\u001b[0;34m\u001b[0m\u001b[0m\n",
      "\u001b[0;31mAssertionError\u001b[0m: Lists differ: [6575[132 chars].5, 5923, 5625.5, 5474, 5401.0, 5474, 5530.0, [6812 chars]62.0] != [6575[132 chars].5, 5328, 5625.5, 5923, 5401.0, 5328, 5530.0, [6812 chars]62.0]\n\nFirst differing element 20:\n5923\n5328\n\nDiff is 10029 characters long. Set self.maxDiff to None to see it."
     ]
    }
   ],
   "source": [
    "import random\n",
    "from unittest import TestCase\n",
    "tc = TestCase()\n",
    "vals = [random.randrange(10000) for _ in range(1000)]\n",
    "tc.assertEqual(running_medians_naive(vals), running_medians(vals))\n",
    "# (4 points) MUST COMPLETE IN UNDER 10 seconds!"
   ]
  },
  {
   "cell_type": "code",
   "execution_count": 176,
   "metadata": {
    "collapsed": false
   },
   "outputs": [],
   "source": [
    "import random\n",
    "from unittest import TestCase\n",
    "tc = TestCase()\n",
    "vals = [random.randrange(100000) for _ in range(100001)]\n",
    "m_mid   = sorted(vals[:50001])[50001//2]\n",
    "m_final = sorted(vals)[len(vals)//2]\n",
    "running = running_medians(vals)\n",
    "tc.assertEqual(m_mid, running[50000])\n",
    "tc.assertEqual(m_final, running[-1])"
   ]
  }
 ],
 "metadata": {
  "anaconda-cloud": {},
  "kernelspec": {
   "display_name": "Python 3",
   "language": "python",
   "name": "python3"
  },
  "language_info": {
   "codemirror_mode": {
    "name": "ipython",
    "version": 3
   },
   "file_extension": ".py",
   "mimetype": "text/x-python",
   "name": "python",
   "nbconvert_exporter": "python",
   "pygments_lexer": "ipython3",
   "version": "3.5.2"
  }
 },
 "nbformat": 4,
 "nbformat_minor": 0
}
