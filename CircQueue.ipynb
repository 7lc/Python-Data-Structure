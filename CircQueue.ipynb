{
 "cells": [
  {
   "cell_type": "markdown",
   "metadata": {},
   "source": [
    "# Circular, Array-backed Queue"
   ]
  },
  {
   "cell_type": "markdown",
   "metadata": {},
   "source": [
    "## Overview\n",
    "\n",
    "For this assignment you will implement a circular, array-backed queue data structure.\n",
    "\n",
    "In the following class, which you are to complete, the backing array will be created and populated with `None`s in the `__init__` method, and the `head` and `tail` indexes set to sentinel values (you shouldn't need to modify `__init__`). Enqueueing and Dequeueing items will take place at the tail and head, with `tail` and `head` tracking the position of the most recently enqueued item and that of the next item to dequeue, respectively. To simplify testing, your implementation should make sure that when dequeuing an item its slot in the array is reset to `None`, and when the queue is emptied its `head` and `tail` attributes should be set to `-1`.\n",
    "\n",
    "Because of the fixed size backing array, the `enqueue` operation is defined to raise a `RuntimeError` when the queue is full — the same exception should be raised when `dequeue` is called on an empty queue.\n",
    "\n",
    "Finally, the `resize` method will allow the array underlying the queue to be increased in size. It is up to you how to implement this (you can either leave the elements in their current positions, though this may require \"unwrapping\" elements, or you can simply move all elements towards the front of the array). You may assume that `resize` will only be called with a value greater than the current length of the underlying array."
   ]
  },
  {
   "cell_type": "code",
   "execution_count": 1,
   "metadata": {
    "collapsed": true,
    "deletable": false,
    "nbgrader": {
     "checksum": "e9ed94239aac011479cc2c959dc6b8ae",
     "grade": false,
     "grade_id": "queue",
     "locked": false,
     "solution": true
    }
   },
   "outputs": [],
   "source": [
    "class Queue:\n",
    "    def __init__(self, limit=10):\n",
    "        self.data = [None] * limit\n",
    "        self.head = -1\n",
    "        self.tail = -1\n",
    "\n",
    "    def enqueue(self, val):\n",
    "        if self.data[self.tail] is None:\n",
    "            self.head += 1\n",
    "            self.tail += 1\n",
    "            self.data[self.tail] = val\n",
    "        else:\n",
    "            if (self.tail + 1) % len(self.data) == self.head:\n",
    "                raise RuntimeError\n",
    "            else:\n",
    "                self.tail = (self.tail + 1) % len(self.data) \n",
    "                self.data[self.tail] = val\n",
    "        \n",
    "    def dequeue(self):\n",
    "        if self.head == -1:\n",
    "            raise RuntimeError\n",
    "        elif self.tail == self.head:\n",
    "            temp = self.data[self.head]\n",
    "            self.data[self.head] = None\n",
    "            self.head = -1\n",
    "            self.tail = -1\n",
    "            return temp\n",
    "        else:\n",
    "            temp = self.data[self.head]\n",
    "            self.data[self.head] = None\n",
    "            self.head = (self.head + 1) % len(self.data) \n",
    "            return temp\n",
    "            \n",
    "    def resize(self, newsize):\n",
    "        assert(len(self.data) < newsize)\n",
    "        new_arr = [None]*newsize\n",
    "        count = 0\n",
    "        for num in self:\n",
    "            new_arr[count] = num\n",
    "            count += 1\n",
    "        self.data = new_arr\n",
    "        self.head = 0\n",
    "        self.tail = count - 1\n",
    "        \n",
    "    def empty(self):\n",
    "        return self.head == -1\n",
    "    \n",
    "    def __bool__(self):\n",
    "        return not self.empty()\n",
    "    \n",
    "    def __str__(self):\n",
    "        if not(self):\n",
    "            return ''\n",
    "        return ', '.join(str(x) for x in self)\n",
    "    \n",
    "    def __repr__(self):\n",
    "        return str(self)\n",
    "    \n",
    "    def __iter__(self):\n",
    "        current = self.head\n",
    "        while current != self.tail:\n",
    "            yield self.data[current]\n",
    "            current = (current + 1) % len(self.data)\n",
    "        yield self.data[self.tail]"
   ]
  },
  {
   "cell_type": "code",
   "execution_count": 2,
   "metadata": {
    "collapsed": false
   },
   "outputs": [
    {
     "data": {
      "text/plain": [
       "8"
      ]
     },
     "execution_count": 2,
     "metadata": {},
     "output_type": "execute_result"
    }
   ],
   "source": [
    "8 % 9"
   ]
  },
  {
   "cell_type": "code",
   "execution_count": 127,
   "metadata": {
    "collapsed": true
   },
   "outputs": [],
   "source": [
    "q = Queue()\n"
   ]
  },
  {
   "cell_type": "code",
   "execution_count": 128,
   "metadata": {
    "collapsed": true
   },
   "outputs": [],
   "source": [
    "q.enqueue(10)\n",
    "q.enqueue(20)"
   ]
  },
  {
   "cell_type": "code",
   "execution_count": 129,
   "metadata": {
    "collapsed": false
   },
   "outputs": [
    {
     "name": "stdout",
     "output_type": "stream",
     "text": [
      "10, 20\n"
     ]
    }
   ],
   "source": [
    "print(q)"
   ]
  },
  {
   "cell_type": "code",
   "execution_count": 130,
   "metadata": {
    "collapsed": false
   },
   "outputs": [
    {
     "name": "stdout",
     "output_type": "stream",
     "text": [
      "10\n",
      "20\n"
     ]
    }
   ],
   "source": [
    "for num in q:\n",
    "    print(num)"
   ]
  },
  {
   "cell_type": "code",
   "execution_count": 131,
   "metadata": {
    "collapsed": false,
    "deletable": false,
    "nbgrader": {
     "checksum": "60dea7a5736bef44dba8f411abbb852c",
     "grade": true,
     "grade_id": "queue_tests_1",
     "locked": true,
     "points": 5,
     "solution": false
    }
   },
   "outputs": [],
   "source": [
    "from unittest import TestCase\n",
    "tc = TestCase()\n",
    "\n",
    "q = Queue(5)\n",
    "tc.assertEqual(q.data, [None] * 5)\n",
    "\n",
    "for i in range(5):\n",
    "    q.enqueue(i)\n",
    "    \n",
    "with tc.assertRaises(RuntimeError):\n",
    "    q.enqueue(5)\n",
    "\n",
    "for i in range(5):\n",
    "    tc.assertEqual(q.dequeue(), i)\n",
    "    \n",
    "tc.assertTrue(q.empty())"
   ]
  },
  {
   "cell_type": "code",
   "execution_count": 132,
   "metadata": {
    "collapsed": false,
    "deletable": false,
    "nbgrader": {
     "checksum": "ee6e216ac846b5854f99b17ee08e21a4",
     "grade": true,
     "grade_id": "queue_tests_2",
     "locked": true,
     "points": 5,
     "solution": false
    }
   },
   "outputs": [],
   "source": [
    "from unittest import TestCase\n",
    "tc = TestCase()\n",
    "\n",
    "q = Queue(10)\n",
    "\n",
    "for i in range(6):\n",
    "    q.enqueue(i)\n",
    "    \n",
    "tc.assertEqual(q.data.count(None), 4)\n",
    "\n",
    "for i in range(5):\n",
    "    q.dequeue()\n",
    "    \n",
    "tc.assertFalse(q.empty())\n",
    "tc.assertEqual(q.data.count(None), 9)\n",
    "tc.assertEqual(q.head, q.tail)\n",
    "tc.assertEqual(q.head, 5)\n",
    "\n",
    "for i in range(9):\n",
    "    q.enqueue(i)\n",
    "\n",
    "with tc.assertRaises(RuntimeError):\n",
    "    q.enqueue(10)\n",
    "\n",
    "for x, y in zip(q, [5] + list(range(9))):\n",
    "    tc.assertEqual(x, y)\n",
    "    \n",
    "tc.assertEqual(q.dequeue(), 5)\n",
    "for i in range(9):\n",
    "    tc.assertEqual(q.dequeue(), i)\n",
    "\n",
    "tc.assertTrue(q.empty())"
   ]
  },
  {
   "cell_type": "code",
   "execution_count": 133,
   "metadata": {
    "collapsed": false,
    "deletable": false,
    "nbgrader": {
     "checksum": "d4050ce90ae96484cea010e3e1429928",
     "grade": true,
     "grade_id": "queue_tests_3",
     "locked": true,
     "points": 5,
     "solution": false
    }
   },
   "outputs": [
    {
     "name": "stdout",
     "output_type": "stream",
     "text": [
      "4\n",
      "4\n",
      "4, 5, 6, 7, 8\n",
      "5\n",
      "5\n",
      "4, 5, 6, 7, 8\n",
      "6\n",
      "6\n",
      "4, 5, 6, 7, 8\n",
      "7\n",
      "7\n",
      "4, 5, 6, 7, 8\n",
      "8\n",
      "8\n",
      "4, 5, 6, 7, 8\n",
      "9\n",
      "10\n",
      "11\n",
      "12\n",
      "13\n"
     ]
    }
   ],
   "source": [
    "from unittest import TestCase\n",
    "tc = TestCase()\n",
    "\n",
    "q = Queue(5)\n",
    "for i in range(5):\n",
    "    q.enqueue(i)\n",
    "for i in range(4):\n",
    "    q.dequeue()\n",
    "for i in range(5, 9):\n",
    "    q.enqueue(i)\n",
    "    \n",
    "with tc.assertRaises(RuntimeError):\n",
    "    q.enqueue(10)\n",
    "\n",
    "q.resize(10)\n",
    "\n",
    "for x, y in zip(q, range(4, 9)):\n",
    "    print(x)\n",
    "    print(y)\n",
    "    print(q)\n",
    "    tc.assertEqual(x, y)\n",
    "    \n",
    "for i in range(9, 14):\n",
    "    print(i)\n",
    "    q.enqueue(i)\n",
    "\n",
    "for i in range(4, 14):\n",
    "    tc.assertEqual(q.dequeue(), i)\n",
    "    \n",
    "tc.assertTrue(q.empty())\n",
    "tc.assertEqual(q.head, -1)"
   ]
  },
  {
   "cell_type": "code",
   "execution_count": null,
   "metadata": {
    "collapsed": true
   },
   "outputs": [],
   "source": []
  },
  {
   "cell_type": "code",
   "execution_count": null,
   "metadata": {
    "collapsed": true
   },
   "outputs": [],
   "source": []
  }
 ],
 "metadata": {
  "anaconda-cloud": {},
  "kernelspec": {
   "display_name": "Python [conda env:py35]",
   "language": "python",
   "name": "conda-env-py35-py"
  },
  "language_info": {
   "codemirror_mode": {
    "name": "ipython",
    "version": 3
   },
   "file_extension": ".py",
   "mimetype": "text/x-python",
   "name": "python",
   "nbconvert_exporter": "python",
   "pygments_lexer": "ipython3",
   "version": "3.5.2"
  }
 },
 "nbformat": 4,
 "nbformat_minor": 0
}
